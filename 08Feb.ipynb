{
  "nbformat": 4,
  "nbformat_minor": 0,
  "metadata": {
    "colab": {
      "provenance": []
    },
    "kernelspec": {
      "name": "python3",
      "display_name": "Python 3"
    },
    "language_info": {
      "name": "python"
    }
  },
  "cells": [
    {
      "cell_type": "markdown",
      "source": [
        "Q1. Create a vehicle class with an init method having instance variables as name_of_vehicle, max_speed\n",
        "and average_of_vehicle.\n"
      ],
      "metadata": {
        "id": "blPFtQTkUZrG"
      }
    },
    {
      "cell_type": "code",
      "source": [
        "class Vehicle:\n",
        "    def __init__(self, name_of_vehicle, max_speed, average_of_vehicle):\n",
        "        self.name_of_vehicle = name_of_vehicle\n",
        "        self.max_speed = max_speed\n",
        "        self.average_of_vehicle = average_of_vehicle\n",
        "\n",
        "# Creating an object of the Vehicle class\n",
        "vehicle1 = Vehicle(\"Car\", 200, 15)\n",
        "\n",
        "# Accessing the instance variables\n",
        "print(f\"Vehicle Name: {vehicle1.name_of_vehicle}\")\n",
        "print(f\"Max Speed: {vehicle1.max_speed} km/h\")\n",
        "print(f\"Average: {vehicle1.average_of_vehicle} km/l\")\n"
      ],
      "metadata": {
        "colab": {
          "base_uri": "https://localhost:8080/"
        },
        "id": "0Q7vYhZKUaed",
        "outputId": "1d7ee69e-b561-4fc9-8b7f-e05dc94df47e"
      },
      "execution_count": 1,
      "outputs": [
        {
          "output_type": "stream",
          "name": "stdout",
          "text": [
            "Vehicle Name: Car\n",
            "Max Speed: 200 km/h\n",
            "Average: 15 km/l\n"
          ]
        }
      ]
    },
    {
      "cell_type": "code",
      "source": [],
      "metadata": {
        "id": "oDaWC2ihUzSJ"
      },
      "execution_count": null,
      "outputs": []
    },
    {
      "cell_type": "markdown",
      "source": [
        "Q2. Create a child class car from the vehicle class created in Que 1, which will inherit the vehicle class.\n",
        "Create a method named seating_capacity which takes capacity as an argument and returns the name of\n",
        "the vehicle and its seating capacity.\n"
      ],
      "metadata": {
        "id": "EQ6N8g2jUaj4"
      }
    },
    {
      "cell_type": "code",
      "source": [
        "# Parent class: Vehicle\n",
        "class Vehicle:\n",
        "    def __init__(self, name_of_vehicle, max_speed, average_of_vehicle):\n",
        "        self.name_of_vehicle = name_of_vehicle\n",
        "        self.max_speed = max_speed\n",
        "        self.average_of_vehicle = average_of_vehicle\n",
        "\n",
        "# Child class: Car (inherits from Vehicle)\n",
        "class Car(Vehicle):\n",
        "    def seating_capacity(self, capacity):\n",
        "        return f\"The {self.name_of_vehicle} has a seating capacity of {capacity}.\"\n",
        "\n",
        "# Creating an object of the Car class\n",
        "car1 = Car(\"Sedan\", 180, 12)\n",
        "\n",
        "# Accessing methods and attributes from both Vehicle and Car classes\n",
        "print(f\"Vehicle Name: {car1.name_of_vehicle}\")\n",
        "print(f\"Max Speed: {car1.max_speed} km/h\")\n",
        "print(f\"Average: {car1.average_of_vehicle} km/l\")\n",
        "\n",
        "# Calling the seating_capacity method\n",
        "print(car1.seating_capacity(5))\n"
      ],
      "metadata": {
        "colab": {
          "base_uri": "https://localhost:8080/"
        },
        "id": "A3Fb_2cqUbgR",
        "outputId": "ffc333b1-a16e-4c39-8f14-9fc36f526ee4"
      },
      "execution_count": 2,
      "outputs": [
        {
          "output_type": "stream",
          "name": "stdout",
          "text": [
            "Vehicle Name: Sedan\n",
            "Max Speed: 180 km/h\n",
            "Average: 12 km/l\n",
            "The Sedan has a seating capacity of 5.\n"
          ]
        }
      ]
    },
    {
      "cell_type": "code",
      "source": [],
      "metadata": {
        "id": "CP54tiUBUzux"
      },
      "execution_count": null,
      "outputs": []
    },
    {
      "cell_type": "markdown",
      "source": [
        "Q3. What is multiple inheritance? Write a python code to demonstrate multiple inheritance.\n"
      ],
      "metadata": {
        "id": "-JGuvMjLUbmf"
      }
    },
    {
      "cell_type": "markdown",
      "source": [
        "Multiple inheritance - it is a feature of object-oriented programming in which a class can inherit attributes and methods from more than one parent class. This allows a child class to combine functionality from multiple base classes."
      ],
      "metadata": {
        "id": "O1T00WdLVBaK"
      }
    },
    {
      "cell_type": "code",
      "source": [
        "# Parent class 1\n",
        "class Vehicle:\n",
        "    def __init__(self, name_of_vehicle, max_speed):\n",
        "        self.name_of_vehicle = name_of_vehicle\n",
        "        self.max_speed = max_speed\n",
        "\n",
        "    def vehicle_info(self):\n",
        "        return f\"Vehicle Name: {self.name_of_vehicle}, Max Speed: {self.max_speed} km/h\"\n",
        "\n",
        "# Parent class 2\n",
        "class FuelEfficiency:\n",
        "    def __init__(self, average_fuel):\n",
        "        self.average_fuel = average_fuel\n",
        "\n",
        "    def fuel_info(self):\n",
        "        return f\"Average Fuel Consumption: {self.average_fuel} km/l\"\n",
        "\n",
        "# Child class inheriting from both Vehicle and FuelEfficiency\n",
        "class Car(Vehicle, FuelEfficiency):\n",
        "    def __init__(self, name_of_vehicle, max_speed, average_fuel, seating_capacity):\n",
        "        Vehicle.__init__(self, name_of_vehicle, max_speed)  # Calling constructor of Vehicle class\n",
        "        FuelEfficiency.__init__(self, average_fuel)  # Calling constructor of FuelEfficiency class\n",
        "        self.seating_capacity = seating_capacity\n",
        "\n",
        "    def car_info(self):\n",
        "        return f\"{self.vehicle_info()}, {self.fuel_info()}, Seating Capacity: {self.seating_capacity}\"\n",
        "\n",
        "# Creating an object of the Car class\n",
        "car1 = Car(\"Sedan\", 180, 15, 5)\n",
        "\n",
        "# Accessing information from both parent classes\n",
        "print(car1.car_info())\n"
      ],
      "metadata": {
        "colab": {
          "base_uri": "https://localhost:8080/"
        },
        "id": "OGEq7QtBUcfz",
        "outputId": "fce28459-929b-4fa9-ee6b-513bcb88c898"
      },
      "execution_count": 3,
      "outputs": [
        {
          "output_type": "stream",
          "name": "stdout",
          "text": [
            "Vehicle Name: Sedan, Max Speed: 180 km/h, Average Fuel Consumption: 15 km/l, Seating Capacity: 5\n"
          ]
        }
      ]
    },
    {
      "cell_type": "code",
      "source": [],
      "metadata": {
        "id": "UhPL7n0PU0b6"
      },
      "execution_count": null,
      "outputs": []
    },
    {
      "cell_type": "markdown",
      "source": [
        "Q4. What are getter and setter in python? Create a class and create a getter and a setter method in this\n",
        "class.\n"
      ],
      "metadata": {
        "id": "iSm-AdSzUclf"
      }
    },
    {
      "cell_type": "markdown",
      "source": [
        "Getter: A method used to get the value of a private attribute.\n",
        "\n",
        "Setter: A method used to set the value of a private attribute."
      ],
      "metadata": {
        "id": "7fqPSTfHVJ9j"
      }
    },
    {
      "cell_type": "code",
      "source": [
        "class Person:\n",
        "    def __init__(self, name, age):\n",
        "        self._name = name\n",
        "        self._age = age\n",
        "\n",
        "    # Getter method for name\n",
        "    @property\n",
        "    def name(self):\n",
        "        return self._name\n",
        "\n",
        "    # Setter method for name\n",
        "    @name.setter\n",
        "    def name(self, value):\n",
        "        if len(value) > 0:  # Validate the name\n",
        "            self._name = value\n",
        "        else:\n",
        "            print(\"Name cannot be empty.\")\n",
        "\n",
        "    # Getter method for age\n",
        "    @property\n",
        "    def age(self):\n",
        "        return self._age\n",
        "\n",
        "    # Setter method for age\n",
        "    @age.setter\n",
        "    def age(self, value):\n",
        "        if value >= 0:  # Validate the age\n",
        "            self._age = value\n",
        "        else:\n",
        "            print(\"Age cannot be negative.\")\n",
        "\n",
        "\n"
      ],
      "metadata": {
        "id": "UkJmoZjCUdps"
      },
      "execution_count": 4,
      "outputs": []
    },
    {
      "cell_type": "code",
      "source": [
        "# Creating an object of the Person class\n",
        "person1 = Person(\"John\", 30)\n",
        "\n",
        "# Using getter methods to access the attributes\n",
        "print(person1.name)\n",
        "print(person1.age)\n",
        "\n",
        "# Using setter methods to modify the attributes\n",
        "person1.name = \"Alice\"\n",
        "person1.age = 25\n",
        "print(person1.name)\n",
        "print(person1.age)\n"
      ],
      "metadata": {
        "colab": {
          "base_uri": "https://localhost:8080/"
        },
        "id": "GB5ZdcYJVRme",
        "outputId": "51d9d607-066d-4efa-d664-237e66f9dcce"
      },
      "execution_count": 5,
      "outputs": [
        {
          "output_type": "stream",
          "name": "stdout",
          "text": [
            "John\n",
            "30\n",
            "Alice\n",
            "25\n"
          ]
        }
      ]
    },
    {
      "cell_type": "code",
      "source": [],
      "metadata": {
        "id": "bJLMIOVgU09u"
      },
      "execution_count": null,
      "outputs": []
    },
    {
      "cell_type": "markdown",
      "source": [
        "Q5.What is method overriding in python? Write a python code to demonstrate method overriding."
      ],
      "metadata": {
        "id": "e81QN_g2Udxv"
      }
    },
    {
      "cell_type": "markdown",
      "source": [
        "Method overriding is a concept in object-oriented programming where a subclass (child class) provides a specific implementation for a method that is already defined in its parent class."
      ],
      "metadata": {
        "id": "6WExCi6xVhmB"
      }
    },
    {
      "cell_type": "code",
      "source": [
        "class Animal:\n",
        "    def sound(self):\n",
        "        print(\"Animal makes a sound\")\n",
        "\n",
        "class Dog(Animal):\n",
        "    def sound(self):\n",
        "        print(\"Dog barks\")\n",
        "\n",
        "class Cat(Animal):\n",
        "    def sound(self):\n",
        "        print(\"Cat meows\")\n",
        "\n",
        "# Creating instances of the classes\n",
        "animal = Animal()\n",
        "dog = Dog()\n",
        "cat = Cat()\n",
        "\n",
        "# Calling the overridden methods\n",
        "animal.sound()\n",
        "dog.sound()\n",
        "cat.sound()\n"
      ],
      "metadata": {
        "colab": {
          "base_uri": "https://localhost:8080/"
        },
        "id": "7UNXepzaUeAh",
        "outputId": "cfaf9884-be06-4c8f-8d4e-37187d9b0d28"
      },
      "execution_count": 6,
      "outputs": [
        {
          "output_type": "stream",
          "name": "stdout",
          "text": [
            "Animal makes a sound\n",
            "Dog barks\n",
            "Cat meows\n"
          ]
        }
      ]
    },
    {
      "cell_type": "code",
      "source": [],
      "metadata": {
        "id": "dEsgmeclU108"
      },
      "execution_count": null,
      "outputs": []
    }
  ]
}